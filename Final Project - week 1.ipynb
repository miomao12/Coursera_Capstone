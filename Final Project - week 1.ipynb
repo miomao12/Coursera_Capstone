{
 "cells": [
  {
   "cell_type": "markdown",
   "metadata": {},
   "source": [
    "# Final Project"
   ]
  },
  {
   "cell_type": "markdown",
   "metadata": {},
   "source": [
    "## Introduction and Business problem"
   ]
  },
  {
   "cell_type": "markdown",
   "metadata": {},
   "source": [
    "In this project, the city of San Francisco will be explored as a Japanese restaurant owner is looking for the best place to open up new branch in San Francisco. \n",
    "The best neighborhood for this new branch would not necessarily be in downtown San Francisco and can even be in residential area, but needs to be properly busy on both weekdays/weekends and safetiness of the area is also one of the important points to consider. The number of existing Japanese restaurants in neighborhood is also another guiding principle for the decision. \n"
   ]
  },
  {
   "cell_type": "markdown",
   "metadata": {},
   "source": [
    "## Data description and Methodology"
   ]
  },
  {
   "cell_type": "markdown",
   "metadata": {},
   "source": [
    "xls data for San Francisco zip codes were obrained from \n",
    "https://sfmohcd.org, Mayor's office of Housing and COmmunity Development. \n",
    "\n",
    "Direct link to download the data.\n",
    "https://www.google.com/url?client=internal-element-cse&cx=013007212484116386546:jey0wvazdua&q=https://sfmohcd.org/sites/default/files/FileCenter/Documents/9037-MOHCD%2520Zip%2520Code%2520-%2520Neighborhood%2520Table.xlsx&sa=U&ved=2ahUKEwjfuIff1OnrAhWW9Z4KHQocD5UQFjAAegQIBRAB&usg=AOvVaw0yDnFlBBVtMU0mrDF0fo3u\n",
    "\n",
    "SF crime rate data\n",
    "https://data.sfgov.org/Public-Safety/SF-Crime-Heat-Map/q6gg-sa2p\n",
    "\n",
    "\n",
    "Foursquare API will be used to obtain location data such as often-searched venues and their latitudes/longitudes.\n",
    "Geopy and Geocoders will be used to coordinates obtained data."
   ]
  },
  {
   "cell_type": "markdown",
   "metadata": {},
   "source": []
  },
  {
   "cell_type": "markdown",
   "metadata": {},
   "source": []
  }
 ],
 "metadata": {
  "kernelspec": {
   "display_name": "Python 3",
   "language": "python",
   "name": "python3"
  },
  "language_info": {
   "codemirror_mode": {
    "name": "ipython",
    "version": 3
   },
   "file_extension": ".py",
   "mimetype": "text/x-python",
   "name": "python",
   "nbconvert_exporter": "python",
   "pygments_lexer": "ipython3",
   "version": "3.7.3"
  }
 },
 "nbformat": 4,
 "nbformat_minor": 2
}
